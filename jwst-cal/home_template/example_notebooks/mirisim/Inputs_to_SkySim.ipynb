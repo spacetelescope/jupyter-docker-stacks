{
 "cells": [
  {
   "cell_type": "markdown",
   "metadata": {},
   "source": [
    "# Specifying targets for a Scene\n",
    "\n",
    "It is possible to create a 'scene' populated with specified astronomical sources as an input to MIRISim.  The types of targets, and how they can be specified are described here in detail.\n",
    "\n",
    "There are four classes of target specifications. For each target within the scene, the user can specify the: \n",
    "\n",
    "* spatial extent and morphology\n",
    "* spectral energy distribution\n",
    "* mapping of the velocity structure within the target\n",
    "* line-of-sight velocity distribution \n",
    "\n",
    "These types of specifications are explained in detail here using the docstrings in the code itself to ensure that the instructions are as up-to-date as possible.  Each of the four types are specified in turn.\n",
    "\n",
    "The way the types of sources are listed here (with single or double square brackets) shows how they should be specified in the scene.ini file (or other .ini file containing a sky scene)."
   ]
  },
  {
   "cell_type": "code",
   "execution_count": 1,
   "metadata": {},
   "outputs": [],
   "source": [
    "# import the skysim component of MIRISim\n",
    "# the component of MIRISim that generates scenes\n",
    "import mirisim.skysim\n",
    "outfile = 'valid_skysim_inputs.txt'\n",
    "\n",
    "# enable printing to file, or to output screen\n",
    "def print_opt(in_string,f=None):\n",
    "    '''\n",
    "    f: output file. If none is given, then output to screen\n",
    "    '''\n",
    "    print(str(in_string))\n",
    "    if f:\n",
    "        f.write(str(in_string))\n",
    "\n",
    "#generic function to pull the documentation out of the **relevant** SkySim libraries\n",
    "def get_documentation(module,blev,description,inputs):\n",
    "    '''\n",
    "    :Parameters:\n",
    "    \n",
    "    module: name of input  module to be explored for documentation\n",
    "    blev:  level of brackets to output (consistent with .ini file notation)\n",
    "    description: (True/False) should the description of the module be displayed \n",
    "    inputs: (True/False) should the required inputs be displayed\n",
    "    '''\n",
    "    #f = open(outfile,'w+')   #uncomment to output to file\n",
    "    f = None                  #uncomment to output to screen\n",
    "    comp_types = module.keys()\n",
    "    for component in comp_types:\n",
    "            target_lib = module[component]\n",
    "            print_opt(\"{}{}{}\".format('['*blev,component,']'*blev),f)\n",
    "            if (description): print_opt(target_lib.__doc__,f)\n",
    "            if (inputs): print(print_opt(target_lib.__init__.__doc__,f))\n",
    "            print_opt(\"\\n============================================\\n\",f)           "
   ]
  },
  {
   "cell_type": "markdown",
   "metadata": {},
   "source": [
    "## What to display\n",
    "\n",
    "There are two levels description available here. The first gives a description of the intent of the function (what kind of target or emission type is being created), and the second lists the available / required input parameters for that function.  \n",
    "\n",
    "Whether the description or the inputs (or both) is displayed depends on which of the switches below are set to <code>True</code>"
   ]
  },
  {
   "cell_type": "code",
   "execution_count": 2,
   "metadata": {},
   "outputs": [],
   "source": [
    "# Display function descriptions?\n",
    "description = True\n",
    "# Display input parameters?\n",
    "inputs = True"
   ]
  },
  {
   "cell_type": "markdown",
   "metadata": {},
   "source": [
    "## Specifying the Spatial Extent of the target\n",
    "\n",
    "\n",
    "The primary classes of targets available within |skysim| are point and extended sources as well as a background radiation field. Both point and extended sources can be given spectral energy distribustions (SEDs), and spectral line information across the |MIRI| wavelength range, with extended sources having the additional capability of being encoded with information about an intrinsic velocity field. \n",
    "\n",
    "Extended sources:\n",
    "\n",
    "*\thave a spatial distribution of flux with is independent of wavelength\n",
    "*\thave an SED that gives the flux of the source at each wavelength.\n",
    "*\t*may* have a velocity map that gives the velocity along the line of sight at any given spatial coordinate (RA, DEC). This effectively \"shifts\" the SED in wavelength at each spatial coordinate.\n",
    "*\t*may* have a LOSVD that gives the shape (broadening and asymmetries1) due to kinematics of the spectral lines. The LOSVD is not variable with coordinates because that would be too computationally demanding and is perhaps not necessary for this kind of simulations.\n",
    "\n",
    "Point sources:\n",
    "\n",
    "*\thave a position\n",
    "*\thave an SED, identical in implementation and capabilities to the SEDs of extended sources\n",
    "\t\n",
    "** Special Case: **  Background emission (from the telescope and from the 'sky' are included in this specification. This is because the background has a spatial extent.\n",
    "\n",
    "\n",
    "Background:\n",
    "\n",
    "*\tIt implements the model given in [Glasse et al. 2015](http://iopscience.iop.org/article/10.1086/682259/pdf).\n",
    "*\tthe background behaves, to the user, in analogous way to an extended source. It may be queried at any spatial coordinate and wavelength to retrieve an specific intensity\n",
    "*\tthe JWST part of the background may be time and spatial dependent.\n",
    "*\tThe spatial dependence is a linear gradient with a certain position angle. The gradient is fixed on JWST FOV coordinates (V2, V3).\n",
    "*\tNear Future: the Zodiacal component will vary depending on ecliptic coordinates of the observation (TBI).\n",
    "\n",
    "These commands initialise what kind of source is going to be specified via the .ini file\n",
    "\n",
    "#### Specification in scene.ini\n",
    "\n",
    "These are the commands that go in single square brackets.  e.g.\n",
    "\n",
    "<code> [Galaxy] </code>\n",
    "\n",
    "#### Specifiication in python\n",
    "\n",
    "These are the types of sources that initialise a target, eg:\n",
    "\n",
    "<code> >> galaxy = Galaxy(Cen=(0.,0.),h=0.1,q=0.5,pa=35.,c=0) </code>\n",
    "\t\t\n",
    "Where, `h` is the disk scale length, `q` is the axial ratio, `pa` is the in the position angle of the galaxy, and `c` represents its diskiness/boxiness. This galaxy is centred on the Principle Optical Path (POP).\n",
    "\n",
    "\n",
    "\n",
    "----\n",
    "Set  <code> Print_Docstrings = True </code> below to show which inputs are expected for specifying these targets.  Setting this parameter to <code>False</code> skips this step"
   ]
  },
  {
   "cell_type": "code",
   "execution_count": 3,
   "metadata": {},
   "outputs": [],
   "source": [
    "Display_Docstrings = False\n",
    "\n",
    "if (Display_Docstrings):\n",
    "    get_documentation(mirisim.skysim.lib.source_lib,1,description,inputs)"
   ]
  },
  {
   "cell_type": "markdown",
   "metadata": {},
   "source": [
    "## Specifying the Spectral Energy Distribution\n",
    "\n",
    "The spectral energy distribution (SED) of a target is specified using the facilities described below. \n",
    "\n",
    "There are four types of spectral energy distributions coded into SkySim: blackbody, stellar, galactic and planetary. \n",
    "\n",
    "** Special Case: ** Specification of spectral lines is included here since this involves specifying things in wavelength space.\n",
    "\n",
    "#### Specifying in scene.ini\n",
    "\n",
    "These specifications are presented in the .ini files with double square brackets.\n",
    "Note that multiple spectral energy distributions (e.g. the combination of specific spectral lines with a blackbody) can be specified for a single target by copying the target properties to a second source with identical spatial properties, and a different SED.\n",
    "\n",
    "<code>\n",
    "[Galaxy]\n",
    "params\n",
    "\n",
    "[[sed]]\n",
    "Type = SEDTYPE\n",
    "params\n",
    "\n",
    "\n",
    "\n",
    "</code>\n",
    "\n",
    "\n",
    "#### Specifying within python\n",
    "\n",
    "Using the galaxy object created above, an SED is added to the target using::\n",
    "\n",
    "    galaxy.get_SED(sed.LinesSed(**SEDPars))\n",
    "\t\n",
    "Where the `SEDPars` are a set of parameters defining, in this case, a spectral line SED with specific line fluxes at given wavelength with specific full width half max values. for example, the function in the brackets could take the form::\n",
    "\n",
    "\tsed.LinesSed(wavels=[5.5],fluxes=[150],fwhms=[300])\n",
    "\n",
    "Multiple lines are then specified within the square brackets, and all three parameters must be specified for each line (wavelength, flux and fwhm).  \n",
    "\n",
    "----\n",
    "Set  <code> Print_Docstrings = True </code> below to show which inputs are expected for specifying these targets.  Setting this parameter to <code>False</code> skips this step"
   ]
  },
  {
   "cell_type": "code",
   "execution_count": 4,
   "metadata": {},
   "outputs": [],
   "source": [
    "Display_Docstrings = False\n",
    "\n",
    "if (Display_Docstrings):\n",
    "    get_documentation(mirisim.skysim.lib.sed_lib,2,description,inputs)"
   ]
  },
  {
   "cell_type": "markdown",
   "metadata": {},
   "source": [
    "### Specifying Velocity Distributions\n",
    "\n",
    "\n",
    "\n",
    "Galactic and protostellar disks alike rotate. SkySim gives you the ability to implement a velocity field into the extended sources created above. \n",
    "\n",
    "\n",
    "#### Specifying in scene.ini\n",
    "<code>\n",
    "[[velomap]]\n",
    "   Type       = FlatDisk\n",
    "   ...\n",
    "</code>\n",
    "#### Specifying in python\n",
    "\n",
    "TBC\n",
    "\n",
    "\n",
    "\n",
    "----\n",
    "Set  <code> Print_Docstrings = True </code> below to show which inputs are expected for specifying these targets.  Setting this parameter to <code>False</code> skips this step"
   ]
  },
  {
   "cell_type": "code",
   "execution_count": 5,
   "metadata": {},
   "outputs": [
    {
     "name": "stdout",
     "output_type": "stream",
     "text": [
      "[[KeplerDisk]]\n",
      "Keplerian Disk\n",
      "    \n",
      "    \n",
      "    v(r) = (v0 / r)^0.5\n",
      "    \n",
      "    \n",
      " \n",
      "None\n",
      "\n",
      "============================================\n",
      "\n",
      "[[FlatDisk]]\n",
      "Flat Rotation Curve Disk\n",
      " \n",
      "None\n",
      "\n",
      "============================================\n",
      "\n"
     ]
    }
   ],
   "source": [
    "Display_Docstrings = True\n",
    "\n",
    "if (Display_Docstrings):\n",
    "    get_documentation(mirisim.skysim.lib.velomap_lib,2,description,inputs)"
   ]
  },
  {
   "cell_type": "markdown",
   "metadata": {},
   "source": [
    "## Specifying line of sight velocity distribution\n",
    "\n",
    "\n",
    "#### Specifying in scene.ini\n",
    "\n",
    "<code>\n",
    "[[losvd]]\n",
    "    Type = ModGauss\n",
    "    ...\n",
    "</code>\n",
    "\n",
    "#### Specifying in python\n",
    "\n",
    "For instance, to add a line of sight velocity distribution (LOSVD) to the galaxy above::\n",
    "\n",
    "\talosvd = kinetics.Losvd(200,h3=0,h4=0)\n",
    "\tgalaxy.get_LOSVD(alosvd)\n",
    "\t\n",
    "Where 200 is the velocity dispersion in km/s, and `h3` and `h4` are Gaussian Hermite polynomial coefficients.\n",
    "\n",
    "\n",
    "----\n",
    "For completeness, The equation for the line of sight velocity distribution is:\n",
    "\n",
    "$$ losvd = \\frac{1}{\\sqrt{(2 \\pi)}\\sigma} * e^{-y^2/2} * (1 + h3*H3(y)+h4*H4(y))  $$\n",
    "\n",
    "\n",
    "Set  <code> Print_Docstrings = True </code> below to show which inputs are expected for specifying these targets.  Setting this parameter to <code>False</code> skips this step\n"
   ]
  },
  {
   "cell_type": "code",
   "execution_count": 6,
   "metadata": {},
   "outputs": [
    {
     "name": "stdout",
     "output_type": "stream",
     "text": [
      "[[ModGauss]]\n",
      "Line-of-Sight Velocity Distribution Class.\n",
      "    \n",
      "    Using a Gauss-Hermite expansion, after van der Marel & Franx 1993.\n",
      "    \n",
      "    \n",
      "\n",
      "        :Parameters:\n",
      "        \n",
      "        sigma:\n",
      "        h3: \n",
      "        h4: \n",
      "        \n",
      "None\n",
      "\n",
      "============================================\n",
      "\n"
     ]
    }
   ],
   "source": [
    "Print_Docstrings = True\n",
    "\n",
    "if (Print_Docstrings):\n",
    "    get_documentation(mirisim.skysim.lib.losvd_lib,2,description,inputs)"
   ]
  },
  {
   "cell_type": "markdown",
   "metadata": {},
   "source": []
  }
 ],
 "metadata": {
  "kernelspec": {
   "display_name": "MIRISim 2.1.0",
   "language": "python",
   "name": "mirisim"
  },
  "language_info": {
   "codemirror_mode": {
    "name": "ipython",
    "version": 3
   },
   "file_extension": ".py",
   "mimetype": "text/x-python",
   "name": "python",
   "nbconvert_exporter": "python",
   "pygments_lexer": "ipython3",
   "version": "3.5.5"
  }
 },
 "nbformat": 4,
 "nbformat_minor": 1
}

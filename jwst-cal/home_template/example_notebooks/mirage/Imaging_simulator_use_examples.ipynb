{
 "cells": [
  {
   "cell_type": "markdown",
   "metadata": {},
   "source": [
    "# Example: Using MIRAGE to Generate Imaging Exposures"
   ]
  },
  {
   "cell_type": "markdown",
   "metadata": {},
   "source": [
    "This notebook shows the general workflow for creating simulated data with Mirage, beginning with an APT file. For users without an APT file, Mirage will work with manually-created instrument/exposure parameter files, generally referred to as [input yaml files](#yaml_example). "
   ]
  },
  {
   "cell_type": "markdown",
   "metadata": {},
   "source": [
    "Under the hood, the `Mirage` simulator is broken up into three basic stages:\n",
    "\n",
    "1. **Creation of a \"seed image\".**<br>\n",
    "   This is generally a noiseless countrate image that contains signal\n",
    "   only from the astronomical sources to be simulated. Currently, the \n",
    "   mirage package contains code to produce a seed image starting\n",
    "   from object catalogs.<br><br>\n",
    "   \n",
    "2. **Dark current preparation.**<br>\n",
    "   The simualted data will be created by adding the simulated sources\n",
    "   in the seed image to a real dark current exposure. This step\n",
    "   converts the dark current exposure to the requested readout pattern\n",
    "   and subarray size requested by the user.<br><br>\n",
    "   \n",
    "3. **Observation generation.**<br>\n",
    "   This step converts the seed image into an exposure of the requested\n",
    "   readout pattern and subarray size. It also adds cosmic rays and \n",
    "   Poisson noise, as well as other detector effects (IPC, crosstalk, etc).\n",
    "   This exposure is then added to the dark current exposure from step 2.<br><br>\n",
    "   \n",
    "For imaging mode observations, these steps are wrapped by the `imaging_simulator.py` module, as shown below."
   ]
  },
  {
   "cell_type": "markdown",
   "metadata": {},
   "source": [
    "*Table of Contents:*\n",
    "* [Generating `yaml` files](#make_yaml)\n",
    "* [Create Simulated Data](#run_steps_together)\n",
    "* [Simulating Multiple Exposures](#mult_sims)\n",
    "* [Running Simulation Steps Independently](#run_steps_independently)\n",
    "* [Example `yaml` file](#yaml_example)"
   ]
  },
  {
   "cell_type": "markdown",
   "metadata": {},
   "source": [
    "---\n",
    "## Getting Started"
   ]
  },
  {
   "cell_type": "code",
   "execution_count": null,
   "metadata": {},
   "outputs": [],
   "source": [
    "import os"
   ]
  },
  {
   "cell_type": "code",
   "execution_count": null,
   "metadata": {},
   "outputs": [],
   "source": [
    "# For examining outputs\n",
    "from glob import glob\n",
    "from scipy.stats import sigmaclip\n",
    "import numpy as np\n",
    "from astropy.io import fits\n",
    "import matplotlib.pyplot as plt\n",
    "%matplotlib inline"
   ]
  },
  {
   "cell_type": "code",
   "execution_count": null,
   "metadata": {},
   "outputs": [],
   "source": [
    "# mirage imports\n",
    "from mirage import imaging_simulator\n",
    "from mirage.seed_image import catalog_seed_image\n",
    "from mirage.dark import dark_prep\n",
    "from mirage.ramp_generator import obs_generator\n",
    "from mirage.yaml import yaml_generator"
   ]
  },
  {
   "cell_type": "markdown",
   "metadata": {},
   "source": [
    "---\n",
    "<a id='make_yaml'></a>\n",
    "# Generating input yaml files"
   ]
  },
  {
   "cell_type": "markdown",
   "metadata": {},
   "source": [
    "For convenience, observing programs with multiple pointings \n",
    "and detectors can be simulated starting with the program's \n",
    "APT file. The xml and pointings files must be exported from \n",
    "APT, and are then used as input to the *yaml_generator*, which will\n",
    "generate a series of yaml input files."
   ]
  },
  {
   "cell_type": "code",
   "execution_count": null,
   "metadata": {},
   "outputs": [],
   "source": [
    "# Specify the xmnl and pointing files exported from APT\n",
    "xml_file = 'imaging_example_data/example_imaging_program.xml'\n",
    "pointing_file = 'imaging_example_data/example_imaging_program.pointing'"
   ]
  },
  {
   "cell_type": "markdown",
   "metadata": {},
   "source": [
    "## Optional user inputs"
   ]
  },
  {
   "cell_type": "markdown",
   "metadata": {},
   "source": [
    "See Mirage's [Mirage's yaml_generator documentation](https://mirage-data-simulator.readthedocs.io/en/latest/yaml_generator.html#additional-yaml-generator-inputs \"Yaml Generator Inputs\")\n",
    "for details on the formatting options for the inputs listed below. The formats will vary based on the complexity of your inputs."
   ]
  },
  {
   "cell_type": "code",
   "execution_count": null,
   "metadata": {},
   "outputs": [],
   "source": [
    "# Source catalogs to be used.\n",
    "cat_dict = {'GOODS-S-FIELD': {'point_source':'imaging_example_data/ptsrc_catalog.cat'}}"
   ]
  },
  {
   "cell_type": "code",
   "execution_count": null,
   "metadata": {},
   "outputs": [],
   "source": [
    "# Set reference file values. \n",
    "# Setting to 'crds_full_name' will search for and download needed\n",
    "# calibration reference files (commonly referred to as CRDS reference files) when\n",
    "# the yaml_generator is run. \n",
    "# \n",
    "# Setting to 'crds' will put placeholders in the yaml files and save the downloading\n",
    "# for when the simulated images are created.\n",
    "reffile_defaults = 'crds'"
   ]
  },
  {
   "cell_type": "code",
   "execution_count": null,
   "metadata": {},
   "outputs": [],
   "source": [
    "# Optionally set the cosmic ray library and rate\n",
    "cosmic_rays = {'library': 'SUNMAX', 'scale': 1.0}"
   ]
  },
  {
   "cell_type": "code",
   "execution_count": null,
   "metadata": {},
   "outputs": [],
   "source": [
    "# Optionally set the background signal rates to be used\n",
    "background = 'medium'"
   ]
  },
  {
   "cell_type": "code",
   "execution_count": null,
   "metadata": {},
   "outputs": [],
   "source": [
    "# Optionally set the telescope roll angle (PAV3) for the observations\n",
    "pav3 = 12.5"
   ]
  },
  {
   "cell_type": "code",
   "execution_count": null,
   "metadata": {},
   "outputs": [],
   "source": [
    "# Optionally set the observation date to use for the data. Note that this information\n",
    "# is placed in the headers of the output files, but not used by Mirage in any way.\n",
    "dates = '2022-10-31'"
   ]
  },
  {
   "cell_type": "markdown",
   "metadata": {},
   "source": [
    "## Run the yaml_generator"
   ]
  },
  {
   "cell_type": "markdown",
   "metadata": {},
   "source": [
    "This will create a collection of yaml files that will be used as inputs when creating the simulated data. There will be one yaml file for each detector and exposure, so there can be quite a few files created if your program has lots of exposures or dithers."
   ]
  },
  {
   "cell_type": "code",
   "execution_count": null,
   "metadata": {},
   "outputs": [],
   "source": [
    "# Set the directory into which the yaml files will be written\n",
    "output_dir = './imaging_example_data/'"
   ]
  },
  {
   "cell_type": "code",
   "execution_count": null,
   "metadata": {},
   "outputs": [],
   "source": [
    "# You can also set a separate directory where the simulated data\n",
    "# will eventually be saved to\n",
    "simulation_dir = './imaging_example_data/'"
   ]
  },
  {
   "cell_type": "markdown",
   "metadata": {},
   "source": [
    "You can specify the data reduction state of the Mirage outputs.\n",
    "Options are 'raw', 'linear', or 'linear, raw'. \n",
    "\n",
    "If 'raw' is specified, the output is a completely uncalibrated file, with a filename ending in \"uncal.fits\"\n",
    "\n",
    "If 'linear' is specified, the output is a file with linearized signals, ending in \"linear.fits\". This is equivalent to having been run through the dq_init, saturation flagging, superbias subtraction, reference pixel subtraction, and non-linearity correction steps of the calibration pipeline. Note that this product does not include dark current subtraction.\n",
    "\n",
    "If 'linear, raw', both outputs are saved.\n",
    "\n",
    "In order to fully process the Mirage output with the default steps used by the pipeline, it would be best to use the 'raw' output and run the entire calibration pipeline."
   ]
  },
  {
   "cell_type": "code",
   "execution_count": null,
   "metadata": {},
   "outputs": [],
   "source": [
    "datatype = 'linear, raw'"
   ]
  },
  {
   "cell_type": "code",
   "execution_count": null,
   "metadata": {
    "scrolled": true
   },
   "outputs": [],
   "source": [
    "# Run the yaml generator\n",
    "yam = yaml_generator.SimInput(input_xml=xml_file, pointing_file=pointing_file,\n",
    "                              catalogs=cat_dict, cosmic_rays=cosmic_rays,\n",
    "                              background=background, roll_angle=pav3,\n",
    "                              dates=dates, reffile_defaults=reffile_defaults,\n",
    "                              verbose=True, output_dir=output_dir,\n",
    "                              simdata_output_dir=simulation_dir,\n",
    "                              datatype=datatype)\n",
    "yam.create_inputs()"
   ]
  },
  {
   "cell_type": "code",
   "execution_count": null,
   "metadata": {},
   "outputs": [],
   "source": [
    "yfiles = glob(os.path.join(output_dir,'jw*.yaml'))"
   ]
  },
  {
   "cell_type": "markdown",
   "metadata": {},
   "source": [
    "---\n",
    "<a id='run_steps_together'></a>\n",
    "# Create simulated data"
   ]
  },
  {
   "cell_type": "markdown",
   "metadata": {},
   "source": [
    "### The imaging simulator class"
   ]
  },
  {
   "cell_type": "markdown",
   "metadata": {},
   "source": [
    "The imaging_simulator.ImgSim class is a wrapper around the three main steps of the simulator (detailed in the [Running simulator steps independently](#run_steps_independently) section below). This convenience function is useful when creating simulated imaging mode data. WFSS data will need to be run in a slightly different way. See the WFSS example notebook for details."
   ]
  },
  {
   "cell_type": "code",
   "execution_count": null,
   "metadata": {},
   "outputs": [],
   "source": [
    "# Choose one of the yaml files just created\n",
    "yamlfile = 'imaging_example_data/jw42424001001_01101_00001_nrcb1.yaml'"
   ]
  },
  {
   "cell_type": "code",
   "execution_count": null,
   "metadata": {},
   "outputs": [],
   "source": [
    "# Run all steps of the imaging simulator for yaml file #1\n",
    "img_sim = imaging_simulator.ImgSim()\n",
    "img_sim.paramfile = yamlfile\n",
    "img_sim.create()"
   ]
  },
  {
   "cell_type": "markdown",
   "metadata": {},
   "source": [
    "### Examine the Output"
   ]
  },
  {
   "cell_type": "code",
   "execution_count": null,
   "metadata": {},
   "outputs": [],
   "source": [
    "def show(array,title,min=0,max=1000):\n",
    "    plt.figure(figsize=(12,12))\n",
    "    plt.imshow(array,clim=(min,max))\n",
    "    plt.title(title)\n",
    "    plt.colorbar().set_label('DN$^{-}$/s')"
   ]
  },
  {
   "cell_type": "markdown",
   "metadata": {},
   "source": [
    "#### Noiseless Seed Image"
   ]
  },
  {
   "cell_type": "markdown",
   "metadata": {},
   "source": [
    "This image is an intermediate product. It contains only the signal from the astronomical sources and background. There are no detector effects, nor cosmic rays added to this count rate image."
   ]
  },
  {
   "cell_type": "code",
   "execution_count": null,
   "metadata": {},
   "outputs": [],
   "source": [
    "# First, look at the noiseless seed image\n",
    "show(img_sim.seedimage,'Seed Image',max=20)"
   ]
  },
  {
   "cell_type": "markdown",
   "metadata": {},
   "source": [
    "#### Final Output Product"
   ]
  },
  {
   "cell_type": "markdown",
   "metadata": {},
   "source": [
    "Next examine the final output product. The linear output will make a prettier picture."
   ]
  },
  {
   "cell_type": "code",
   "execution_count": null,
   "metadata": {},
   "outputs": [],
   "source": [
    "lin_file = 'imaging_example_data/jw42424001001_01101_00001_nrcb1_linear.fits'\n",
    "with fits.open(lin_file) as hdulist:\n",
    "    linear_data = hdulist['SCI'].data\n",
    "print(linear_data.shape)"
   ]
  },
  {
   "cell_type": "code",
   "execution_count": null,
   "metadata": {},
   "outputs": [],
   "source": [
    "show(linear_data[0, 3, :, :], \"Final Group\", max=250)"
   ]
  },
  {
   "cell_type": "markdown",
   "metadata": {},
   "source": [
    "Examine the raw output. First a single group, which is dominated by noise and detector artifacts. "
   ]
  },
  {
   "cell_type": "code",
   "execution_count": null,
   "metadata": {},
   "outputs": [],
   "source": [
    "raw_file = 'imaging_example_data/jw42424001001_01101_00001_nrcb1_uncal.fits'\n",
    "with fits.open(raw_file) as hdulist:\n",
    "    raw_data = hdulist['SCI'].data\n",
    "print(raw_data.shape)"
   ]
  },
  {
   "cell_type": "code",
   "execution_count": null,
   "metadata": {},
   "outputs": [],
   "source": [
    "show(raw_data[0, 3, :, :], \"Final Group\", max=15000)"
   ]
  },
  {
   "cell_type": "markdown",
   "metadata": {},
   "source": [
    "Many of the instrumental artifacts can be removed by looking at the difference between two groups. Raw data values are integers, so first make the data floats before doing the subtraction."
   ]
  },
  {
   "cell_type": "code",
   "execution_count": null,
   "metadata": {},
   "outputs": [],
   "source": [
    "show(1. * raw_data[0, 3, :, :] - 1. * raw_data[0, 0, :, :], \"Last Minus First Group\", max=200)"
   ]
  },
  {
   "cell_type": "markdown",
   "metadata": {},
   "source": [
    "This raw data file is now ready to be run through the [JWST calibration pipeline](https://jwst-pipeline.readthedocs.io/en/stable/) from the beginning. If dark current subtraction is not important for you, you can use Mirage's linear output, skip some of the initial steps of the pipeline, and begin by running the [Jump detection](https://jwst-pipeline.readthedocs.io/en/stable/jwst/jump/index.html?highlight=jump) and [ramp fitting](https://jwst-pipeline.readthedocs.io/en/stable/jwst/ramp_fitting/index.html) steps."
   ]
  },
  {
   "cell_type": "markdown",
   "metadata": {},
   "source": [
    "---\n",
    "<a id='mult_sims'></a>\n",
    "## Simulating Multiple Exposures"
   ]
  },
  {
   "cell_type": "markdown",
   "metadata": {},
   "source": [
    "Each yaml file will simulate an exposure for a single pointing using a single detector. To simulate multiple exposures, or a single exposure with multiple detectors, multiple calls to the *imaging_simulator* must be made."
   ]
  },
  {
   "cell_type": "markdown",
   "metadata": {},
   "source": [
    "### In Series\n",
    "```python\n",
    "paramlist = [yaml_a1,yaml_a2,yaml_a3,yaml_a4,yaml_a5]\n",
    "\n",
    "def many_sim(paramlist):\n",
    "    '''Function to run many simulations in series\n",
    "    '''\n",
    "    for file in paramlist:\n",
    "        m = imaging_simulator.ImgSim()\n",
    "        m.paramfile = file\n",
    "        m.create()\n",
    "```\n",
    "\n",
    "### In Parallel\n",
    "\n",
    "Since each `yaml` simulations does not depend on the others, we can parallelize the process to speed things up:\n",
    "```python\n",
    "from multiprocessing import Pool\n",
    "\n",
    "n_procs = 5 # number of cores available\n",
    "\n",
    "with Pool(n_procs) as pool:\n",
    "    pool.map(make_sim, paramlist)\n",
    "```"
   ]
  },
  {
   "cell_type": "markdown",
   "metadata": {},
   "source": [
    "---\n",
    "<a id='run_steps_independently'></a>\n",
    "# Running simulation steps independently"
   ]
  },
  {
   "cell_type": "markdown",
   "metadata": {},
   "source": [
    "The steps detailed in this section are wrapped by the `imaging_simulator` mentioned above. General users will not need to worry about the details of these three steps."
   ]
  },
  {
   "cell_type": "markdown",
   "metadata": {},
   "source": [
    "Mirage is composed of three main steps:\n",
    "<br></br>\n",
    "<br></br>\n",
    "Seed image creation\n",
    "<br></br>\n",
    "Dark current preparation\n",
    "<br></br>\n",
    "Observation creation (combining simulated sources and dark current)\n",
    "<br></br><br></br>\n",
    "This section shows how to call the three steps independently. The `imaging_simulator` function above is a wrapper around these three steps. Most users will want simply to call `imaging_simulator`."
   ]
  },
  {
   "cell_type": "markdown",
   "metadata": {},
   "source": [
    "## First generate the \"seed image\" \n",
    "\n",
    "This is generally a 2D noiseless countrate image that contains only simulated astronomical sources.\n",
    "\n",
    "A seed image is generated based on a `.yaml` file that contains all the necessary parameters for simulating data."
   ]
  },
  {
   "cell_type": "code",
   "execution_count": null,
   "metadata": {
    "scrolled": true
   },
   "outputs": [],
   "source": [
    "cat = catalog_seed_image.Catalog_seed()\n",
    "cat.paramfile = yamlfile\n",
    "cat.make_seed()"
   ]
  },
  {
   "cell_type": "markdown",
   "metadata": {},
   "source": [
    "### Look at the seed image"
   ]
  },
  {
   "cell_type": "code",
   "execution_count": null,
   "metadata": {},
   "outputs": [],
   "source": [
    "show(cat.seedimage,'Seed Image',max=20)"
   ]
  },
  {
   "cell_type": "markdown",
   "metadata": {},
   "source": [
    "## Prepare the dark current exposure\n",
    "This will serve as the base of the simulated data.\n",
    "This step will linearize the dark current (if it \n",
    "is not already), and reorganize it into the \n",
    "requested readout pattern and number of groups."
   ]
  },
  {
   "cell_type": "code",
   "execution_count": null,
   "metadata": {},
   "outputs": [],
   "source": [
    "d = dark_prep.DarkPrep()\n",
    "d.paramfile = yamlfile\n",
    "d.prepare()"
   ]
  },
  {
   "cell_type": "markdown",
   "metadata": {},
   "source": [
    "### Look at the dark current \n",
    "For this, we will look at an image of the final group\n",
    "minus the first group"
   ]
  },
  {
   "cell_type": "code",
   "execution_count": null,
   "metadata": {},
   "outputs": [],
   "source": [
    "exptime = d.linDark.header['NGROUPS'] * cat.frametime\n",
    "diff = (d.linDark.data[0,-1,:,:] - d.linDark.data[0,0,:,:]) / exptime\n",
    "show(diff,'Dark Current Countrate',max=0.1)"
   ]
  },
  {
   "cell_type": "markdown",
   "metadata": {},
   "source": [
    "## Create the final exposure\n",
    "Turn the seed image into a exposure of the \n",
    "proper readout pattern, and combine it with the\n",
    "dark current exposure. Cosmic rays and other detector\n",
    "effects are added. \n",
    "\n",
    "The output can be either this linearized exposure, or\n",
    "a 'raw' exposure where the linearized exposure is \n",
    "\"unlinearized\" and the superbias and \n",
    "reference pixel signals are added, or the user can \n",
    "request both outputs. This is controlled from\n",
    "within the yaml parameter file."
   ]
  },
  {
   "cell_type": "code",
   "execution_count": null,
   "metadata": {},
   "outputs": [],
   "source": [
    "obs = obs_generator.Observation()\n",
    "obs.linDark = d.prepDark\n",
    "obs.seed = cat.seedimage\n",
    "obs.segmap = cat.seed_segmap\n",
    "obs.seedheader = cat.seedinfo\n",
    "obs.paramfile = yamlfile\n",
    "obs.create()"
   ]
  },
  {
   "cell_type": "markdown",
   "metadata": {},
   "source": [
    "### Examine the final output image\n",
    "Again, we will look at the last group minus the first group"
   ]
  },
  {
   "cell_type": "code",
   "execution_count": null,
   "metadata": {},
   "outputs": [],
   "source": [
    "with fits.open(obs.linear_output) as h:\n",
    "    lindata = h[1].data\n",
    "    header = h[0].header"
   ]
  },
  {
   "cell_type": "code",
   "execution_count": null,
   "metadata": {},
   "outputs": [],
   "source": [
    "exptime = header['EFFINTTM']\n",
    "diffdata = (lindata[0,-1,:,:] - lindata[0,0,:,:]) / exptime\n",
    "show(diffdata,'Simulated Data',min=0,max=20)"
   ]
  },
  {
   "cell_type": "code",
   "execution_count": null,
   "metadata": {},
   "outputs": [],
   "source": [
    "# Show on a log scale, to bring out the presence of the dark current\n",
    "# Noise in the CDS image makes for a lot of pixels with values < 0,\n",
    "# which makes this kind of an ugly image. Add an offset so that\n",
    "# everything is positive and the noise is visible\n",
    "offset = 2.\n",
    "plt.figure(figsize=(12,12))\n",
    "plt.imshow(np.log10(diffdata+offset),clim=(0.001,np.log10(80)))\n",
    "plt.title('Simulated Data')\n",
    "plt.colorbar().set_label('DN$^{-}$/s')"
   ]
  },
  {
   "cell_type": "markdown",
   "metadata": {},
   "source": [
    "--- \n",
    "<a id='yaml_example'></a>\n",
    "## Example yaml input file\n",
    "\n",
    "For an example of a yaml file, see the [example yaml file](https://mirage-data-simulator.readthedocs.io/en/latest/example_yaml.html \"Example Yaml File\") page\n",
    "in the Mirage documentation.\n",
    "\n",
    "Entries listed as 'config' have default files that are present in the \n",
    "config directory of the repository. The scripts are set up to \n",
    "automatically find and use these files. The user can replace 'config'\n",
    "with a filename if they wish to override the default.\n",
    "\n",
    "In general, if 'None' is placed in a field, then the step that uses\n",
    "that particular file will be skipped.\n",
    "\n",
    "Note that the linearized_darkfile entry overrides the dark entry, unless\n",
    "linearized_darkfile is set to None, in which case the dark entry will be\n",
    "used.\n",
    "\n",
    "Use of a valid readout pattern in the readpatt entry will cause the \n",
    "simulator to look up the values of nframe and nskip and ignore the \n",
    "values given in the yaml file."
   ]
  },
  {
   "cell_type": "code",
   "execution_count": null,
   "metadata": {},
   "outputs": [],
   "source": []
  }
 ],
 "metadata": {
  "kernelspec": {
   "display_name": "MIRaGe",
   "language": "python",
   "name": "mirage"
  },
  "language_info": {
   "codemirror_mode": {
    "name": "ipython",
    "version": 3
   },
   "file_extension": ".py",
   "mimetype": "text/x-python",
   "name": "python",
   "nbconvert_exporter": "python",
   "pygments_lexer": "ipython3",
   "version": "3.6.7"
  }
 },
 "nbformat": 4,
 "nbformat_minor": 2
}
